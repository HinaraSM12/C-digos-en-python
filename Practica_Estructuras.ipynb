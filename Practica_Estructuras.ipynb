{
  "nbformat": 4,
  "nbformat_minor": 0,
  "metadata": {
    "colab": {
      "provenance": [],
      "authorship_tag": "ABX9TyNnyJwwW7KXMFKUSiFhEmv3",
      "include_colab_link": true
    },
    "kernelspec": {
      "name": "python3",
      "display_name": "Python 3"
    },
    "language_info": {
      "name": "python"
    }
  },
  "cells": [
    {
      "cell_type": "markdown",
      "metadata": {
        "id": "view-in-github",
        "colab_type": "text"
      },
      "source": [
        "<a href=\"https://colab.research.google.com/github/HinaraSM12/C-digos-en-python/blob/main/Practica_Estructuras.ipynb\" target=\"_parent\"><img src=\"https://colab.research.google.com/assets/colab-badge.svg\" alt=\"Open In Colab\"/></a>"
      ]
    },
    {
      "cell_type": "markdown",
      "source": [
        "# PRÁCTICA 1\n",
        "Realizada por Hinara Sánchez"
      ],
      "metadata": {
        "id": "-qJ_u-SXQcv4"
      }
    },
    {
      "cell_type": "markdown",
      "source": [
        "## EJERCICIO 1"
      ],
      "metadata": {
        "id": "SHvX15W4Qnwx"
      }
    },
    {
      "cell_type": "markdown",
      "source": [
        "1. Se tiene un arreglo de 20 edades comprendidas entre los 13 y 43 años no repetidas de un estudio realizado en una escuela de primaria, se debe de ordenar el arreglo y buscar la edad de 16 años."
      ],
      "metadata": {
        "id": "h3tBta8rl-JX"
      }
    },
    {
      "cell_type": "code",
      "execution_count": null,
      "metadata": {
        "id": "WXGgGug_lVvF"
      },
      "outputs": [],
      "source": [
        "L=[39, 41, 26,\t19, 36, 24, 34, 20, 43, 37, 42, 21, 33, 23, 40, 27, 16, 22, 14, 13] #Lista"
      ]
    },
    {
      "cell_type": "code",
      "source": [
        "def orden_num(A):                  #Funcion para ordenar numeros de menor a mayor\n",
        "  for i in range(len(A)):\n",
        "    for j in range(len(A)):\n",
        "      if A[i]<A[j]:\n",
        "        a=A[i]\n",
        "        A[i]=A[j]\n",
        "        A[j]=a\n",
        "  return A"
      ],
      "metadata": {
        "id": "mIin7CmXAs7d"
      },
      "execution_count": null,
      "outputs": []
    },
    {
      "cell_type": "code",
      "source": [
        "Li=orden_num(L)           #lista ordenada\n",
        "print(Li)"
      ],
      "metadata": {
        "colab": {
          "base_uri": "https://localhost:8080/"
        },
        "id": "xmqBiyEEAvW7",
        "outputId": "56ea0eec-d166-45d2-e839-e5f5b9f3702e"
      },
      "execution_count": null,
      "outputs": [
        {
          "output_type": "stream",
          "name": "stdout",
          "text": [
            "[13, 14, 16, 19, 20, 21, 22, 23, 24, 26, 27, 33, 34, 36, 37, 39, 40, 41, 42, 43]\n"
          ]
        }
      ]
    },
    {
      "cell_type": "code",
      "source": [
        "i=1                   #buscar el 16 por busqueda binaria\n",
        "Li=orden_num(L)  \n",
        "while Li[0]!=16:\n",
        "  p=int((i+len(Li))/2)\n",
        "  if Li[p-1]>16:\n",
        "    i=p-1\n",
        "    Li=Li[:i]\n",
        "  elif Li[p-1]<16:\n",
        "    i=p+1\n",
        "    Li=Li[i:]\n",
        "    i=0\n",
        "  elif Li[p-1]==16:\n",
        "    Li=[Li.pop(p-1)]\n",
        "  if Li[0]==16:\n",
        "    break\n",
        "print(Li)"
      ],
      "metadata": {
        "colab": {
          "base_uri": "https://localhost:8080/"
        },
        "id": "wYgh_fC00vOe",
        "outputId": "6bdecf8c-e4d1-4d73-f17b-8fc124d0f95e"
      },
      "execution_count": null,
      "outputs": [
        {
          "output_type": "stream",
          "name": "stdout",
          "text": [
            "[16]\n"
          ]
        }
      ]
    },
    {
      "cell_type": "markdown",
      "source": [
        "## EJERCICIO 2\n"
      ],
      "metadata": {
        "id": "S2gv-_bLQua-"
      }
    },
    {
      "cell_type": "markdown",
      "source": [
        "2. En una empresa de 10 empleados se desea buscar el nombre del empleado que tuvo más ventas en el mes de diciembre. La lista ya está ordenada."
      ],
      "metadata": {
        "id": "K-XqigemnNQw"
      }
    },
    {
      "cell_type": "code",
      "source": [
        "K=[\"Aleja\",\"Ana\",\"Benito\",\"Carlos\",\"David\",\"Enrique\",\"Fabri\",\"Gabriel\",\"Hinara\",\"Luis\"]       #Lista de nombres ordenada"
      ],
      "metadata": {
        "id": "b-JwApfRnSjX"
      },
      "execution_count": null,
      "outputs": []
    },
    {
      "cell_type": "code",
      "source": [
        "i=1                   \n",
        "Li=K\n",
        "N=\"Gabriel\"        #ingrese el vendedor a buscar\n",
        "j=0\n",
        "while Li[0]!=N:\n",
        "  p=int((i+len(Li))/2)\n",
        "  if Li[p-1]>N:\n",
        "    i=p-1\n",
        "    Li=Li[:i]\n",
        "  elif Li[p-1]<N:\n",
        "    i=p+1\n",
        "    Li=Li[i:]\n",
        "    i=0\n",
        "  elif Li[p-1]==N:\n",
        "    Li=[Li.pop(p-1)]\n",
        "  if Li[0]==N:\n",
        "    break\n",
        "  if Li[0]!=N and len(Li)==1:\n",
        "    j=1\n",
        "    break\n",
        "if j==1:\n",
        "  print(f\"No se encontró al vendedor con nombre {N}\")\n",
        "else:\n",
        "  print(f\"El empleado con más ventas es {Li}\")\n"
      ],
      "metadata": {
        "colab": {
          "base_uri": "https://localhost:8080/"
        },
        "id": "MCuMr8ZDoSaG",
        "outputId": "75e51a1b-8a6f-452f-f9d7-c019dc4f92cb"
      },
      "execution_count": null,
      "outputs": [
        {
          "output_type": "stream",
          "name": "stdout",
          "text": [
            "El empleado con más ventas es ['Gabriel']\n"
          ]
        }
      ]
    },
    {
      "cell_type": "markdown",
      "source": [
        "## EJERCICIO 3"
      ],
      "metadata": {
        "id": "KBJl2xWyQ0-S"
      }
    },
    {
      "cell_type": "markdown",
      "source": [
        "3. En una entidad se desea buscar por cedula de ciudadanía en la lista de reportes morosos, para determinar si el cliente es apto para realizar un prestamos, lo que indica que el cliente no puede estar en esa lista de 200 usuarios moroso (hacer la prueba con 20 usuarios), la lista no está ordenada"
      ],
      "metadata": {
        "id": "KE_DRjrv71Kd"
      }
    },
    {
      "cell_type": "code",
      "source": [
        "C=[122339, 432341, 635426,\t927419, 224336, 326324, 356234, 283430, 424533, 243337, 785342, 142321, 253433, 245423, 897240, 345227, 986316, 234222, 764614, 283413] #Lista de cedulas de morosos"
      ],
      "metadata": {
        "id": "V-EFIXhi78Ek"
      },
      "execution_count": null,
      "outputs": []
    },
    {
      "cell_type": "code",
      "source": [
        "Ci=orden_num(C)       #lista de cedulas ordenadas\n",
        "print(Ci)"
      ],
      "metadata": {
        "colab": {
          "base_uri": "https://localhost:8080/"
        },
        "id": "uE3t1sjK84Gl",
        "outputId": "846629a4-de62-4572-82f6-3cf434abb322"
      },
      "execution_count": null,
      "outputs": [
        {
          "output_type": "stream",
          "name": "stdout",
          "text": [
            "[122339, 142321, 224336, 234222, 243337, 245423, 253433, 283413, 283430, 326324, 345227, 356234, 424533, 432341, 635426, 764614, 785342, 897240, 927419, 986316]\n"
          ]
        }
      ]
    },
    {
      "cell_type": "code",
      "source": [
        "Ci=orden_num(C)\n",
        "Li=Ci\n",
        "i=1\n",
        "N=927419\n",
        "if Li[0]==N:                        #Algoritmo para saber si un usurio se encuentra en la lista de morosos por busqueda binaria\n",
        "  Li=[Li.pop(0)]\n",
        "  print(f\"Se encontró al usuario con cedula {Li}\")\n",
        "else:\n",
        "  while Li[0]!=N:\n",
        "    j=0\n",
        "    p=int((i+len(Li))/2)\n",
        "    if Li[p-1]>N:\n",
        "      i=p-1\n",
        "      Li=Li[:i]\n",
        "    elif Li[p-1]<N:\n",
        "      i=p\n",
        "      Li=Li[i:]\n",
        "      i=0\n",
        "    if Li[0]==N:\n",
        "      Li=[Li.pop(0)]\n",
        "    if Li[0]!=N and len(Li)==1:\n",
        "      j=1\n",
        "      break\n",
        "  if j==1:\n",
        "    print(f\"No se encontró al usuario con cedula {N}\")\n",
        "  else:\n",
        "    print(f\"Se encontró al usuario con cedula {Li}\")"
      ],
      "metadata": {
        "colab": {
          "base_uri": "https://localhost:8080/"
        },
        "id": "4Meiqga49DHt",
        "outputId": "c234735d-45bc-4ed6-a10e-c60f4102f06d"
      },
      "execution_count": null,
      "outputs": [
        {
          "output_type": "stream",
          "name": "stdout",
          "text": [
            "Se encontró al usuario con cedula [927419]\n"
          ]
        }
      ]
    },
    {
      "cell_type": "markdown",
      "source": [
        "## EJERCICIO 4"
      ],
      "metadata": {
        "id": "p9Ml6GxVQ28b"
      }
    },
    {
      "cell_type": "markdown",
      "source": [
        "4. Un profesor guarda los datos de sus estudiantes en tres vectores: código, nombre y nota, como se muestra en la siguiente imagen. Se requiere un algoritmo para consultar la nota de un estudiante a partir de su código.\n",
        "\n",
        "\n",
        "![image.png](data:image/png;base64,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)\n"
      ],
      "metadata": {
        "id": "KWCGkIEm_jLA"
      }
    },
    {
      "cell_type": "code",
      "source": [
        "E=[[\"001\",\"Luis Dominguez\",4.5],[\"002\",\"Daniela Flórez\",3.8],[\"003\",\"Jesús Bastidas\",2.5],[\"004\",\"Camilo Chaves\",4.8],[\"005\",\"Diana Chaves\",4.6],[\"006\",\"Jackeline Riascos\",4.2]]"
      ],
      "metadata": {
        "id": "mI37zuUm_vNe"
      },
      "execution_count": null,
      "outputs": []
    },
    {
      "cell_type": "code",
      "source": [
        "i=1\n",
        "N=\"006\"                   #coloque acá el código del alumno a consultar\n",
        "Li=E\n",
        "if Li[0][0]==N:                        #Algoritmo para consultar la nota de los alumnos por busqueda binaria\n",
        "  Li=[Li.pop(0)]\n",
        "  print(f\"SU NOTA ES {Li[0][2]}\")\n",
        "else:\n",
        "  while Li[0][0]!=N:\n",
        "    j=0\n",
        "    p=int((i+len(Li))/2)\n",
        "    if Li[p-1][0]>N:\n",
        "      i=p-1\n",
        "      Li=Li[:i]\n",
        "    elif Li[p-1][0]<N:\n",
        "      i=p+1\n",
        "      Li=Li[i-1:]\n",
        "      i=0\n",
        "    elif Li[p-1][0]==N:\n",
        "      Li=[Li.pop(p-1)]\n",
        "    if Li[0][0]==N:\n",
        "      break\n",
        "    if Li[0][0]!=N and len(Li)==1:\n",
        "      j=1\n",
        "      break\n",
        "  if j==1:\n",
        "    print(f\"No existe el alumno con codigo {N}\")\n",
        "  else:\n",
        "    print(f\"SU NOTA ES {Li[0][2]}\")"
      ],
      "metadata": {
        "colab": {
          "base_uri": "https://localhost:8080/"
        },
        "id": "mJnnuvLauELe",
        "outputId": "e216f485-8afc-4b8b-cb5b-b0d93c507ad6"
      },
      "execution_count": null,
      "outputs": [
        {
          "output_type": "stream",
          "name": "stdout",
          "text": [
            "SU NOTA ES 4.2\n"
          ]
        }
      ]
    },
    {
      "cell_type": "markdown",
      "source": [
        "## EJERCICIO 5"
      ],
      "metadata": {
        "id": "3J7VZA8NQ5_U"
      }
    },
    {
      "cell_type": "markdown",
      "source": [
        "5. Se tiene la siguiente lista, se dese ordenar A = [5, 8, 4, 14, 2, 1, 10, 3, 5]"
      ],
      "metadata": {
        "id": "o_lqVmTE_r93"
      }
    },
    {
      "cell_type": "code",
      "source": [
        "A = [5, 8, 4, 14, 2, 1, 10, 3, 5] #Lista a ordenar"
      ],
      "metadata": {
        "id": "eMxz0nrF_3zE"
      },
      "execution_count": null,
      "outputs": []
    },
    {
      "cell_type": "code",
      "source": [
        "orden_num(A)   #Lista ordenada"
      ],
      "metadata": {
        "colab": {
          "base_uri": "https://localhost:8080/"
        },
        "id": "Di_G8x3V_9fx",
        "outputId": "f28429e0-e85f-46a0-d681-a5ad87fa8070"
      },
      "execution_count": null,
      "outputs": [
        {
          "output_type": "execute_result",
          "data": {
            "text/plain": [
              "[1, 2, 3, 4, 5, 5, 8, 10, 14]"
            ]
          },
          "metadata": {},
          "execution_count": 481
        }
      ]
    },
    {
      "cell_type": "markdown",
      "source": [
        "## EJERCICIO 6"
      ],
      "metadata": {
        "id": "fjx0m7HwQ7UQ"
      }
    },
    {
      "cell_type": "markdown",
      "source": [
        "6. Se tiene una lista de edades de 20 estudiantes, ordenarla de forma descendente y hallar el número que se aproxime al promedio de las edades."
      ],
      "metadata": {
        "id": "ow3uGyLQPZc9"
      }
    },
    {
      "cell_type": "code",
      "source": [
        "Q=[39, 41, 25,\t19, 36, 24, 34, 20, 43, 37, 42, 21, 33, 23, 40, 27, 16, 22, 14, 13]"
      ],
      "metadata": {
        "id": "Yip9ffhFRrdr"
      },
      "execution_count": null,
      "outputs": []
    },
    {
      "cell_type": "code",
      "source": [
        "def orden_num_cont(A):                  #Funcion para ordenar numeros de mayor a menor\n",
        "  for i in range(len(A)):\n",
        "    for j in range(len(A)):\n",
        "      if A[i]>A[j]:\n",
        "        a=A[i]\n",
        "        A[i]=A[j]\n",
        "        A[j]=a\n",
        "  return A"
      ],
      "metadata": {
        "id": "SFqrIIw2PmQ3"
      },
      "execution_count": null,
      "outputs": []
    },
    {
      "cell_type": "code",
      "source": [
        "print(orden_num_cont(Q))               #Lista ordenada descendentemente"
      ],
      "metadata": {
        "colab": {
          "base_uri": "https://localhost:8080/"
        },
        "id": "QO6HY1jvPe7b",
        "outputId": "572c2a4a-f202-4fe0-85e2-40e66fcb0803"
      },
      "execution_count": null,
      "outputs": [
        {
          "output_type": "stream",
          "name": "stdout",
          "text": [
            "[43, 42, 41, 40, 39, 37, 36, 34, 33, 27, 25, 24, 23, 22, 21, 20, 19, 16, 14, 13]\n"
          ]
        }
      ]
    },
    {
      "cell_type": "code",
      "source": [
        "sum=0                                  #Algoritmo para calcular el promedio\n",
        "for i in range(len(Q)):\n",
        "  sum+=Q[i]\n",
        "prom=int(sum/(len(Q)))\n",
        "print(prom)"
      ],
      "metadata": {
        "colab": {
          "base_uri": "https://localhost:8080/"
        },
        "id": "Po3Wdf4SSlmM",
        "outputId": "b4c9e3fd-3ff3-4fa2-9ee8-fdea8f8aa887"
      },
      "execution_count": null,
      "outputs": [
        {
          "output_type": "stream",
          "name": "stdout",
          "text": [
            "28\n"
          ]
        }
      ]
    },
    {
      "cell_type": "code",
      "source": [
        "def orden_num_dos(A):                  #Funcion para ordenar la lista a partir de las diferencias entre las edades y el promedio\n",
        "  for i in range(len(A)):\n",
        "    for j in range(len(A)):\n",
        "      if A[i][1]<A[j][1]:\n",
        "        a=A[i]\n",
        "        A[i]=A[j]\n",
        "        A[j]=a\n",
        "  return A"
      ],
      "metadata": {
        "id": "KZ8n9E_wkgWu"
      },
      "execution_count": null,
      "outputs": []
    },
    {
      "cell_type": "code",
      "source": [
        "L=[]\n",
        "for i in range(len(Q)):                       #LISTA CON EDADES Y LA DIFERENCIA CON EL PROMEDIO\n",
        "  a=abs(Q[i]-prom)\n",
        "  L.append([Q[i],a])\n",
        "\n",
        "S=orden_num_dos(L)\n",
        "print(S)"
      ],
      "metadata": {
        "colab": {
          "base_uri": "https://localhost:8080/"
        },
        "id": "VVbQa2I0jd-v",
        "outputId": "ee620967-b1f6-44fd-a4e3-feb6f2c25580"
      },
      "execution_count": null,
      "outputs": [
        {
          "output_type": "stream",
          "name": "stdout",
          "text": [
            "[[27, 1], [25, 3], [24, 4], [33, 5], [23, 5], [34, 6], [22, 6], [21, 7], [36, 8], [20, 8], [37, 9], [19, 9], [39, 11], [40, 12], [16, 12], [41, 13], [42, 14], [14, 14], [43, 15], [13, 15]]\n"
          ]
        }
      ]
    },
    {
      "cell_type": "code",
      "source": [
        "i=1\n",
        "N=3                  #coloque acá la menor diferencia\n",
        "Li=S\n",
        "if Li[0][1]==N:                        #Algoritmo para encontrar el numero aproximado al promedio de las edades por busqueda binaria\n",
        "  Li=[Li.pop(0)]\n",
        "  print(f\"La edad que se aproxima a promedio de edades es {Li[0][0]}\")\n",
        "else:\n",
        "  while Li[0][1]!=N:\n",
        "    j=0\n",
        "    p=int((i+len(Li))/2)\n",
        "    if Li[p-1][1]>N:\n",
        "      i=p-1\n",
        "      Li=Li[:i]\n",
        "    elif Li[p-1][1]<N:\n",
        "      i=p+1\n",
        "      Li=Li[i-1:]\n",
        "      i=0\n",
        "    elif Li[p-1][1]==N:\n",
        "      Li=[Li.pop(p-1)]\n",
        "    if Li[0][1]==N:\n",
        "      break\n",
        "    if Li[0][1]!=N and len(Li)==1:\n",
        "      j=1\n",
        "      break\n",
        "  if j==1:\n",
        "    print(f\"No existe {N}\")\n",
        "  else:\n",
        "    print(f\"La edad que se aproxima al promedio de edades es {Li[0][0]}\")"
      ],
      "metadata": {
        "colab": {
          "base_uri": "https://localhost:8080/"
        },
        "id": "4zP3leDxlGeX",
        "outputId": "7fe1423e-b6ac-49d5-b154-24c8ffd393f7"
      },
      "execution_count": null,
      "outputs": [
        {
          "output_type": "stream",
          "name": "stdout",
          "text": [
            "La edad que se aproxima al promedio de edades es 25\n"
          ]
        }
      ]
    },
    {
      "cell_type": "markdown",
      "source": [
        "## EJERCICIO 7"
      ],
      "metadata": {
        "id": "Hun3Ke0EQ9Z3"
      }
    },
    {
      "cell_type": "markdown",
      "source": [
        "7. Se tiene una lista de cosas del hogar, se desea ordenar de forma ascendente B = [“nevera”, “olla”, “lavadora”, “gancho”,” cama”, “televisor”]"
      ],
      "metadata": {
        "id": "GVb3thF-PgH_"
      }
    },
    {
      "cell_type": "code",
      "source": [
        "B = [\"nevera\", \"olla\", \"lavadora\", \"gancho\", \"cama\", \"televisor\"]       #Lista de cosas del hogar"
      ],
      "metadata": {
        "id": "sO_nIqJtXJo_"
      },
      "execution_count": null,
      "outputs": []
    },
    {
      "cell_type": "code",
      "source": [
        "print(orden_num(B))                         #Lista ordenada"
      ],
      "metadata": {
        "colab": {
          "base_uri": "https://localhost:8080/"
        },
        "id": "GZBoNPAcsoE-",
        "outputId": "a33de2b8-c393-4c31-f238-dafc0daee81d"
      },
      "execution_count": null,
      "outputs": [
        {
          "output_type": "stream",
          "name": "stdout",
          "text": [
            "['cama', 'gancho', 'lavadora', 'nevera', 'olla', 'televisor']\n"
          ]
        }
      ]
    },
    {
      "cell_type": "markdown",
      "source": [
        "## EJERCICIO 8"
      ],
      "metadata": {
        "id": "r0hYtfB1Q_O0"
      }
    },
    {
      "cell_type": "markdown",
      "source": [
        "8. En una biblioteca se guarda la información de los libros (código, autor, editorial, año de registro), se desea buscar por el código del libro."
      ],
      "metadata": {
        "id": "lVx9h4oYPmiB"
      }
    },
    {
      "cell_type": "code",
      "source": [
        "Bi=[[\"001\",\"Pedro\",\"Kijano\",2020],[\"004\",\"Maria\",\"Pinguino\",2012], [\"009\",\"Josh\",\"Mundo\",2003],[\"003\",\"Jose\",\"Russo\",2016], [\"007\",\"Robert\",\"Raw\",2002]]      #Lista de la biblioteca"
      ],
      "metadata": {
        "id": "ef4bLIGEbJfv"
      },
      "execution_count": null,
      "outputs": []
    },
    {
      "cell_type": "code",
      "source": [
        "Bii=orden_num(Bi)\n",
        "print(Bii)          #Lista ordenada"
      ],
      "metadata": {
        "colab": {
          "base_uri": "https://localhost:8080/"
        },
        "id": "dZl7RyMLt9-Z",
        "outputId": "98249d7e-0893-44c9-ab05-26235dcfdb6e"
      },
      "execution_count": null,
      "outputs": [
        {
          "output_type": "stream",
          "name": "stdout",
          "text": [
            "[['001', 'Pedro', 'Kijano', 2020], ['003', 'Jose', 'Russo', 2016], ['004', 'Maria', 'Pinguino', 2012], ['007', 'Robert', 'Raw', 2002], ['009', 'Josh', 'Mundo', 2003]]\n"
          ]
        }
      ]
    },
    {
      "cell_type": "code",
      "source": [
        "i=1\n",
        "N=\"009\"                   #coloque acá el código del alumno a consultar\n",
        "Li=Bii\n",
        "if Li[0][0]==N:                        #Algoritmo para encontrar la información de los libros por busqueda binaria\n",
        "  Li=[Li.pop(0)]\n",
        "  print(f\"Autor: {Li[0][1]}\")\n",
        "  print(f\"Editorial: {Li[0][2]}\")\n",
        "  print(f\"Año: {Li[0][3]}\")\n",
        "else:\n",
        "  while Li[0][0]!=N:\n",
        "    j=0\n",
        "    p=int((i+len(Li))/2)\n",
        "    if Li[p-1][0]>N:\n",
        "      i=p-1\n",
        "      Li=Li[:i]\n",
        "    elif Li[p-1][0]<N:\n",
        "      i=p+1\n",
        "      Li=Li[i-1:]\n",
        "      i=0\n",
        "    elif Li[p-1][0]==N:\n",
        "      Li=[Li.pop(p-1)]\n",
        "    if Li[0][0]==N:\n",
        "      break\n",
        "    if Li[0][0]!=N and len(Li)==1:\n",
        "      j=1\n",
        "      break\n",
        "  if j==1:\n",
        "    print(f\"No existe el libro con codigo {N}\")\n",
        "  else:\n",
        "    print(f\"Autor: {Li[0][1]}\")\n",
        "    print(f\"Editorial: {Li[0][2]}\")\n",
        "    print(f\"Año: {Li[0][3]}\")"
      ],
      "metadata": {
        "colab": {
          "base_uri": "https://localhost:8080/"
        },
        "id": "i_0dR6DhwP47",
        "outputId": "efec4e80-9361-4316-9549-92eac7ac940f"
      },
      "execution_count": null,
      "outputs": [
        {
          "output_type": "stream",
          "name": "stdout",
          "text": [
            "Autor: Josh\n",
            "Editorial: Mundo\n",
            "Año: 2003\n"
          ]
        }
      ]
    },
    {
      "cell_type": "markdown",
      "source": [
        "## EJERCICIO 9"
      ],
      "metadata": {
        "id": "Jddz8uEsRBlt"
      }
    },
    {
      "cell_type": "markdown",
      "source": [
        "9. Se tiene los datos de la temperatura en grados centígrados que tuvieron en el transcurso del año, las ciudades principales de Colombia están almacenadas de la siguiente manera.\n",
        "\n",
        "\n",
        "![image.png](data:image/png;base64,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)\n",
        "\n",
        "\n",
        "a. Se desea conocer en el mes de mayo cual fue la ciudad que tuvo una temperatura entre los 25 y 27 grados centígrados.\n",
        "\n",
        "\n",
        "b. Se desea conocer la ciudad y el mes en el cual la temperatura fue superior a 31 grados centígrados."
      ],
      "metadata": {
        "id": "jKbSdL2IPsay"
      }
    },
    {
      "cell_type": "code",
      "source": [
        "Temp=[[\"Bogotá\",[\"ene\",19],[\"feb\",19],[\"mar\",19],[\"abr\",18],[\"may\",18],[\"jun\",18],[\"jul\",17],[\"ago\",17],[\"sept\",18],[\"oct\",18],[\"nov\",18],[\"dic\",19]],\n",
        "      [\"Medellín\",[\"ene\",25],[\"feb\",25],[\"mar\",25],[\"abr\",25],[\"may\",26],[\"jun\",26],[\"jul\",26],[\"ago\",26],[\"sept\",25],[\"oct\",25],[\"nov\",25],[\"dic\",25]],\n",
        "      [\"Cali\",[\"ene\",29],[\"feb\",29],[\"mar\",29],[\"abr\",28],[\"may\",28],[\"jun\",28],[\"jul\",29],[\"ago\",29],[\"sept\",29],[\"oct\",28],[\"nov\",28],[\"dic\",28]],\n",
        "      [\"Barranquilla\",[\"ene\",30],[\"feb\",30],[\"mar\",31],[\"abr\",31],[\"may\",32],[\"jun\",32],[\"jul\",32],[\"ago\",32],[\"sept\",32],[\"oct\",31],[\"nov\",31],[\"dic\",30]]]     #Lista forma 1"
      ],
      "metadata": {
        "id": "RIknx0Rzc0Ad"
      },
      "execution_count": null,
      "outputs": []
    },
    {
      "cell_type": "code",
      "source": [
        "TT=[[\"ene\",[\"Bogotá\",19],[\"Medellín\",25],[\"Cali\",29],[\"Barranquilla\",30]],\n",
        "    [\"feb\",[\"Bogotá\",19],[\"Medellín\",25],[\"Cali\",29],[\"Barranquilla\",30]],\n",
        "    [\"mar\",[\"Bogotá\",19],[\"Medellín\",25],[\"Cali\",29],[\"Barranquilla\",31]],\n",
        "    [\"abr\",[\"Bogotá\",18],[\"Medellín\",25],[\"Cali\",28],[\"Barranquilla\",31]],\n",
        "    [\"may\",[\"Bogotá\",18],[\"Medellín\",26],[\"Cali\",28],[\"Barranquilla\",32]],\n",
        "    [\"jun\",[\"Bogotá\",18],[\"Medellín\",26],[\"Cali\",28],[\"Barranquilla\",32]],\n",
        "    [\"jul\",[\"Bogotá\",17],[\"Medellín\",26],[\"Cali\",29],[\"Barranquilla\",32]],\n",
        "    [\"ago\",[\"Bogotá\",17],[\"Medellín\",26],[\"Cali\",29],[\"Barranquilla\",32]],\n",
        "    [\"sep\",[\"Bogotá\",18],[\"Medellín\",25],[\"Cali\",29],[\"Barranquilla\",32]],\n",
        "    [\"oct\",[\"Bogotá\",18],[\"Medellín\",25],[\"Cali\",28],[\"Barranquilla\",31]],\n",
        "    [\"nov\",[\"Bogotá\",18],[\"Medellín\",25],[\"Cali\",28],[\"Barranquilla\",31]],\n",
        "    [\"dic\",[\"Bogotá\",19],[\"Medellín\",25],[\"Cali\",28],[\"Barranquilla\",30]]]                          #Lista forma 2"
      ],
      "metadata": {
        "id": "952WwIDg72dB"
      },
      "execution_count": null,
      "outputs": []
    },
    {
      "cell_type": "code",
      "source": [
        "Mayo = []                         #Lista del mes de mayo con las ciudades y temperaturas correspondientes\n",
        "for i in range (1, 5):\n",
        "  Mayo.append(TT[4][i])\n",
        "\n",
        "print(Mayo)"
      ],
      "metadata": {
        "colab": {
          "base_uri": "https://localhost:8080/"
        },
        "id": "L_huLjvUW8Xp",
        "outputId": "7e8ad382-fa2b-483c-b6d5-fc3f8558006e"
      },
      "execution_count": null,
      "outputs": [
        {
          "output_type": "stream",
          "name": "stdout",
          "text": [
            "[['Bogotá', 18], ['Medellín', 26], ['Cali', 28], ['Barranquilla', 32]]\n"
          ]
        }
      ]
    },
    {
      "cell_type": "code",
      "source": [
        "for i in range(len(Temp)):         #Algoritmo sin busqueda binaria para encontrar la ciudad que tuvo una temperatura entre 25 y 27 °C\n",
        "  if Temp[i][5][1]>=25 and Temp[i][5][1]<=27:\n",
        "    print(f\"Esta fue la ciudad que tuvo una temperatura entre 25 y 27 °C: {Temp[i][0]}\")"
      ],
      "metadata": {
        "colab": {
          "base_uri": "https://localhost:8080/"
        },
        "id": "E5B7Vhhbf4Ud",
        "outputId": "6ec7155c-084f-4215-beff-32b5daf3b38f"
      },
      "execution_count": null,
      "outputs": [
        {
          "output_type": "stream",
          "name": "stdout",
          "text": [
            "Esta fue la ciudad que tuvo una temperatura entre 25 y 27 °C: Medellín\n"
          ]
        }
      ]
    },
    {
      "cell_type": "code",
      "source": [
        "i=1                             #Algoritmo con busqueda binaria para encontrar la ciudad que tuvo una temperatura entre 25 y 27 °C\n",
        "N=25                \n",
        "M=27\n",
        "Li=Mayo\n",
        "if Li[0][1]>=N and Li[0][1]<=M:                       \n",
        "  Li=[Li.pop(0)]\n",
        "  print(f\"Esta fue la ciudad que tuvo una temperatura entre 25 y 27 °C: {Mayo[0][1]}\")\n",
        "else:\n",
        "  while Li[0][1]<N or Li[0][1]>M:\n",
        "    j=0\n",
        "    p=int((i+len(Li))/2)\n",
        "    if Li[p-1][1]>N:\n",
        "      i=p\n",
        "      Li=Li[i-1:]\n",
        "    elif [p][1]<M:\n",
        "      i=p-1\n",
        "      Li=Li[:i]\n",
        "      i=0\n",
        "    elif Li[p-1][1]>N and Li[p-1][1]<M:\n",
        "      Li=[Li.pop(p-1)]\n",
        "    if Li[0][1]>=N and Li[0][1]<=M:\n",
        "      break\n",
        "    if Li[0][1]!=N and len(Li)==1:\n",
        "      j=1\n",
        "      break\n",
        "  if j==1:\n",
        "    print(f\"No existe el libro con codigo {N}\")\n",
        "  else:\n",
        "    print(f\"Esta fue la ciudad que tuvo una temperatura entre 25 y 27 °C: {Li[0][0]}\")"
      ],
      "metadata": {
        "colab": {
          "base_uri": "https://localhost:8080/"
        },
        "id": "NH4ENxCm7wil",
        "outputId": "33688855-492a-4445-95c1-dcf8bcbd51ee"
      },
      "execution_count": null,
      "outputs": [
        {
          "output_type": "stream",
          "name": "stdout",
          "text": [
            "Esta fue la ciudad que tuvo una temperatura entre 25 y 27 °C: Medellín\n"
          ]
        }
      ]
    },
    {
      "cell_type": "code",
      "source": [
        "for i in range(len(Temp)):                      #Algoritmo sin busqueda binaria para encontrar que ciudad y en que mes se tuvo una temperatura mayor a 31°C SIN BÚSQUEDA BINARIA\n",
        "  for j in range(1,12):\n",
        "    if Temp[i][j][1]>31:\n",
        "      print(f\"Esta fue la ciudad que tuvo una temperatura superior a 31 °C: {Temp[i][0]} y fue en el mes de: {Temp[i][j][0]}\")"
      ],
      "metadata": {
        "colab": {
          "base_uri": "https://localhost:8080/"
        },
        "id": "9key_-lShPBw",
        "outputId": "a5773ee6-5d4a-4bc3-f3d8-3adee0ac086c"
      },
      "execution_count": null,
      "outputs": [
        {
          "output_type": "stream",
          "name": "stdout",
          "text": [
            "Esta fue la ciudad que tuvo una temperatura superior a 31 °C: Barranquilla y fue en el mes de: may\n",
            "Esta fue la ciudad que tuvo una temperatura superior a 31 °C: Barranquilla y fue en el mes de: jun\n",
            "Esta fue la ciudad que tuvo una temperatura superior a 31 °C: Barranquilla y fue en el mes de: jul\n",
            "Esta fue la ciudad que tuvo una temperatura superior a 31 °C: Barranquilla y fue en el mes de: ago\n",
            "Esta fue la ciudad que tuvo una temperatura superior a 31 °C: Barranquilla y fue en el mes de: sept\n"
          ]
        }
      ]
    },
    {
      "cell_type": "code",
      "source": [
        "#Lista forma 3\n",
        "Temp2=[[\"Bogotá\",\"ene\",19],[\"Bogotá\",\"feb\",19],[\"Bogotá\",\"mar\",19],[\"Bogotá\",\"abr\",18],[\"Bogotá\",\"may\",18],[\"Bogotá\",\"jun\",18],[\"Bogotá\",\"jul\",17],[\"Bogotá\",\"ago\",17],[\"Bogotá\",\"sept\",18],[\"Bogotá\",\"oct\",18],[\"Bogotá\",\"nov\",18],[\"Bogotá\",\"dic\",19],\n",
        "      [\"Medellín\",\"ene\",25],[\"Medellín\",\"feb\",25],[\"Medellín\",\"mar\",25],[\"Medellín\",\"abr\",25],[\"Medellín\",\"may\",26],[\"Medellín\",\"jun\",26],[\"Medellín\",\"jul\",26],[\"Medellín\",\"ago\",26],[\"Medellín\",\"sept\",25],[\"Medellín\",\"oct\",25],[\"Medellín\",\"nov\",25],[\"Medellín\",\"dic\",25],\n",
        "      [\"Cali\",\"ene\",29],[\"Cali\",\"feb\",29],[\"Cali\",\"mar\",29],[\"Cali\",\"abr\",28],[\"Cali\",\"may\",28],[\"Cali\",\"jun\",28],[\"Cali\",\"jul\",29],[\"Cali\",\"ago\",29],[\"Cali\",\"sept\",29],[\"Cali\",\"oct\",28],[\"Cali\",\"nov\",28],[\"Cali\",\"dic\",28],\n",
        "      [\"Barranquilla\",\"ene\",30],[\"Barranquilla\",\"feb\",30],[\"Barranquilla\",\"mar\",31],[\"Barranquilla\",\"abr\",31],[\"Barranquilla\",\"may\",32],[\"Barranquilla\",\"jun\",32],[\"Barranquilla\",\"jul\",32],[\"Barranquilla\",\"ago\",32],[\"Barranquilla\",\"sept\",32],[\"Barranquilla\",\"oct\",31],[\"Barranquilla\",\"nov\",31],[\"Barranquilla\",\"dic\",30]]"
      ],
      "metadata": {
        "id": "UzHapEA1t0WG"
      },
      "execution_count": null,
      "outputs": []
    },
    {
      "cell_type": "code",
      "source": [
        "def orden_num_tres(A):                  #Funcion para ordenar la lista a partir de las temperaturas\n",
        "  for i in range(len(A)):\n",
        "    for j in range(len(A)):\n",
        "      if A[i][2]<A[j][2]:\n",
        "        a=A[i]\n",
        "        A[i]=A[j]\n",
        "        A[j]=a\n",
        "  return A"
      ],
      "metadata": {
        "id": "kZSRDCdEuwzx"
      },
      "execution_count": null,
      "outputs": []
    },
    {
      "cell_type": "code",
      "source": [
        "mm=orden_num_tres(Temp2)                  #Lista ordenada por temperaturas de menor a mayor\n",
        "print(mm)"
      ],
      "metadata": {
        "colab": {
          "base_uri": "https://localhost:8080/"
        },
        "id": "OagQzp80vAK9",
        "outputId": "a3aad241-479b-48f9-f8e8-f068bb2500dc"
      },
      "execution_count": null,
      "outputs": [
        {
          "output_type": "stream",
          "name": "stdout",
          "text": [
            "[['Bogotá', 'jul', 17], ['Bogotá', 'ago', 17], ['Bogotá', 'jun', 18], ['Bogotá', 'abr', 18], ['Bogotá', 'may', 18], ['Bogotá', 'sept', 18], ['Bogotá', 'oct', 18], ['Bogotá', 'nov', 18], ['Bogotá', 'feb', 19], ['Bogotá', 'mar', 19], ['Bogotá', 'dic', 19], ['Bogotá', 'ene', 19], ['Medellín', 'feb', 25], ['Medellín', 'mar', 25], ['Medellín', 'abr', 25], ['Medellín', 'ene', 25], ['Medellín', 'sept', 25], ['Medellín', 'oct', 25], ['Medellín', 'nov', 25], ['Medellín', 'dic', 25], ['Medellín', 'jul', 26], ['Medellín', 'ago', 26], ['Medellín', 'jun', 26], ['Medellín', 'may', 26], ['Cali', 'abr', 28], ['Cali', 'may', 28], ['Cali', 'jun', 28], ['Cali', 'oct', 28], ['Cali', 'nov', 28], ['Cali', 'dic', 28], ['Cali', 'ago', 29], ['Cali', 'sept', 29], ['Cali', 'mar', 29], ['Cali', 'feb', 29], ['Cali', 'jul', 29], ['Cali', 'ene', 29], ['Barranquilla', 'feb', 30], ['Barranquilla', 'ene', 30], ['Barranquilla', 'dic', 30], ['Barranquilla', 'mar', 31], ['Barranquilla', 'oct', 31], ['Barranquilla', 'nov', 31], ['Barranquilla', 'abr', 31], ['Barranquilla', 'ago', 32], ['Barranquilla', 'sept', 32], ['Barranquilla', 'may', 32], ['Barranquilla', 'jun', 32], ['Barranquilla', 'jul', 32]]\n"
          ]
        }
      ]
    },
    {
      "cell_type": "code",
      "source": [
        "i=1\n",
        "N=32                 #coloque acá la temperatura a consultar\n",
        "Li=mm                                       #Algoritmo sin busqueda binaria para encontrar que ciudad y en que mes se tuvo una temperatura mayor a 31°C POR BÚSQUEDA BINARIA\n",
        "while Li[0][2]!=N:\n",
        "  j=0\n",
        "  p=int((i+len(Li))/2)\n",
        "  if Li[p-1][2]>N:\n",
        "    i=p-1\n",
        "    Li=Li[:i]\n",
        "  elif Li[p-1][2]<N:\n",
        "    i=p+1\n",
        "    Li=Li[i-1:]\n",
        "    i=0\n",
        "  elif Li[p-1][2]==N:\n",
        "    break\n",
        "  if Li[0][2]==N:\n",
        "    break\n",
        "  if Li[0][2]!=N and len(Li)==1:\n",
        "    j=1\n",
        "    break\n",
        "if j==1:\n",
        "  print(f\"No está registraa la temperatura {N}\")\n",
        "else:\n",
        "  print(Li)"
      ],
      "metadata": {
        "colab": {
          "base_uri": "https://localhost:8080/"
        },
        "id": "tgqzr9JUvHke",
        "outputId": "ede0e0e4-639c-4c7a-bf38-1b2a582aaf98"
      },
      "execution_count": null,
      "outputs": [
        {
          "output_type": "stream",
          "name": "stdout",
          "text": [
            "[['Barranquilla', 'abr', 31], ['Barranquilla', 'ago', 32], ['Barranquilla', 'sept', 32], ['Barranquilla', 'may', 32], ['Barranquilla', 'jun', 32], ['Barranquilla', 'jul', 32]]\n"
          ]
        }
      ]
    }
  ]
}